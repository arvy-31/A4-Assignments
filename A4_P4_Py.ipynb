{
 "cells": [
  {
   "cell_type": "code",
   "execution_count": 2,
   "id": "c06f1c91",
   "metadata": {},
   "outputs": [
    {
     "name": "stdout",
     "output_type": "stream",
     "text": [
      "<class 'pandas.core.frame.DataFrame'>\n",
      "RangeIndex: 16 entries, 0 to 15\n",
      "Data columns (total 9 columns):\n",
      " #   Column    Non-Null Count  Dtype   \n",
      "---  ------    --------------  -----   \n",
      " 0   brand     16 non-null     category\n",
      " 1   price     16 non-null     category\n",
      " 2   weight    16 non-null     object  \n",
      " 3   crust     16 non-null     object  \n",
      " 4   cheese    16 non-null     object  \n",
      " 5   size      16 non-null     object  \n",
      " 6   toppings  16 non-null     object  \n",
      " 7   spicy     16 non-null     object  \n",
      " 8   ranking   16 non-null     int64   \n",
      "dtypes: category(2), int64(1), object(6)\n",
      "memory usage: 1.4+ KB\n",
      "None\n"
     ]
    }
   ],
   "source": [
    "import pandas as pd\n",
    "import statsmodels.api as sm\n",
    "import matplotlib.pyplot as plt\n",
    "import itertools\n",
    "\n",
    "# Load the data\n",
    "pizza_data = pd.read_csv(\"D:\\SCMA632__FIRE632\\Stats\\Assignment\\A4\\pizza_data.csv\")\n",
    "\n",
    "# Convert relevant columns to category type\n",
    "pizza_data['brand'] = pizza_data['brand'].astype('category')\n",
    "pizza_data['price'] = pizza_data['price'].astype('category')\n",
    "\n",
    "# Check the conversion\n",
    "print(pizza_data.info())"
   ]
  },
  {
   "cell_type": "code",
   "execution_count": 4,
   "id": "0ee672fd",
   "metadata": {},
   "outputs": [],
   "source": [
    "# Define a simplified set of attributes and levels\n",
    "attributes = {\n",
    "    'brand': pizza_data['brand'].cat.categories,\n",
    "    'price': pizza_data['price'].cat.categories\n",
    "}\n",
    "\n",
    "# Create the design matrix\n",
    "design = pd.DataFrame(list(itertools.product(*attributes.values())), columns=attributes.keys())\n",
    "\n",
    "# Assuming 'ranking' column represents respondent evaluations\n",
    "ratings = pizza_data['ranking']\n",
    "\n",
    "# Combine the design matrix with ratings\n",
    "conjoint_data = pd.concat([design, ratings], axis=1)\n",
    "\n",
    "# Ensure all the data in conjoint_data is in numeric format where needed\n",
    "conjoint_data = pd.get_dummies(conjoint_data, drop_first=True)\n",
    "\n",
    "# Convert boolean columns to integers if necessary\n",
    "for col in conjoint_data.columns:\n",
    "    if conjoint_data[col].dtype == 'bool':\n",
    "        conjoint_data[col] = conjoint_data[col].astype(int)"
   ]
  },
  {
   "cell_type": "code",
   "execution_count": 6,
   "id": "b7e6eba0",
   "metadata": {},
   "outputs": [
    {
     "name": "stdout",
     "output_type": "stream",
     "text": [
      "const               float64\n",
      "brand_Onesta          int32\n",
      "brand_Oven Story      int32\n",
      "brand_Pizza hut       int32\n",
      "price_$2.00           int32\n",
      "price_$3.00           int32\n",
      "price_$4.00           int32\n",
      "dtype: object\n",
      "float64\n",
      "                            OLS Regression Results                            \n",
      "==============================================================================\n",
      "Dep. Variable:                ranking   R-squared:                       0.588\n",
      "Model:                            OLS   Adj. R-squared:                  0.314\n",
      "Method:                 Least Squares   F-statistic:                     2.143\n",
      "Date:                Tue, 09 Jul 2024   Prob (F-statistic):              0.146\n",
      "Time:                        00:05:21   Log-Likelihood:                -40.055\n",
      "No. Observations:                  16   AIC:                             94.11\n",
      "Df Residuals:                       9   BIC:                             99.52\n",
      "Df Model:                           6                                         \n",
      "Covariance Type:            nonrobust                                         \n",
      "====================================================================================\n",
      "                       coef    std err          t      P>|t|      [0.025      0.975]\n",
      "------------------------------------------------------------------------------------\n",
      "const                8.5000      2.609      3.258      0.010       2.599      14.401\n",
      "brand_Onesta        -0.5000      2.789     -0.179      0.862      -6.809       5.809\n",
      "brand_Oven Story    -1.0000      2.789     -0.359      0.728      -7.309       5.309\n",
      "brand_Pizza hut      1.5000      2.789      0.538      0.604      -4.809       7.809\n",
      "price_$2.00          5.5000      2.789      1.972      0.080      -0.809      11.809\n",
      "price_$3.00         -3.5000      2.789     -1.255      0.241      -9.809       2.809\n",
      "price_$4.00         -2.0000      2.789     -0.717      0.491      -8.309       4.309\n",
      "==============================================================================\n",
      "Omnibus:                        0.063   Durbin-Watson:                   2.748\n",
      "Prob(Omnibus):                  0.969   Jarque-Bera (JB):                0.178\n",
      "Skew:                           0.116   Prob(JB):                        0.915\n",
      "Kurtosis:                       2.538   Cond. No.                         5.57\n",
      "==============================================================================\n",
      "\n",
      "Notes:\n",
      "[1] Standard Errors assume that the covariance matrix of the errors is correctly specified.\n"
     ]
    },
    {
     "name": "stderr",
     "output_type": "stream",
     "text": [
      "D:\\Python\\Lib\\site-packages\\scipy\\stats\\_stats_py.py:1806: UserWarning: kurtosistest only valid for n>=20 ... continuing anyway, n=16\n",
      "  warnings.warn(\"kurtosistest only valid for n>=20 ... continuing \"\n"
     ]
    }
   ],
   "source": [
    "# Prepare the data for the linear model\n",
    "X = conjoint_data.drop(columns='ranking')\n",
    "y = conjoint_data['ranking'].astype(float)\n",
    "\n",
    "# Add a constant to the model (intercept)\n",
    "X = sm.add_constant(X)\n",
    "\n",
    "# Check the types of data\n",
    "print(X.dtypes)\n",
    "print(y.dtypes)\n",
    "\n",
    "# Ensure no data is cast as object\n",
    "X = X.apply(pd.to_numeric)\n",
    "y = pd.to_numeric(y)\n",
    "\n",
    "# Run the linear model\n",
    "ca_model = sm.OLS(y, X).fit()\n",
    "\n",
    "# Print the results\n",
    "print(ca_model.summary())"
   ]
  },
  {
   "cell_type": "code",
   "execution_count": 7,
   "id": "8867ec67",
   "metadata": {},
   "outputs": [
    {
     "name": "stdout",
     "output_type": "stream",
     "text": [
      "const               8.5\n",
      "brand_Onesta       -0.5\n",
      "brand_Oven Story   -1.0\n",
      "brand_Pizza hut     1.5\n",
      "price_$2.00         5.5\n",
      "price_$3.00        -3.5\n",
      "price_$4.00        -2.0\n",
      "dtype: float64\n"
     ]
    },
    {
     "data": {
      "image/png": "[encoded data removed]",
      "text/plain": [
       "<Figure size 1200x800 with 1 Axes>"
      ]
     },
     "metadata": {},
     "output_type": "display_data"
    }
   ],
   "source": [
    "# Extract part-worth utilities (coefficients)\n",
    "utilities = ca_model.params\n",
    "print(utilities)\n",
    "\n",
    "# Plot the part-worth utilities\n",
    "plt.figure(figsize=(12, 8))\n",
    "utilities.plot(kind='bar')\n",
    "plt.title('Part-Worth Utilities')\n",
    "plt.xlabel('Attributes and Levels')\n",
    "plt.ylabel('Utility Estimate')\n",
    "plt.tight_layout()\n",
    "plt.show()"
   ]
  },
  {
   "cell_type": "code",
   "execution_count": null,
   "id": "1fdb93de",
   "metadata": {},
   "outputs": [],
   "source": []
  }
 ],
 "metadata": {
  "kernelspec": {
   "display_name": "Python 3 (ipykernel)",
   "language": "python",
   "name": "python3"
  },
  "language_info": {
   "codemirror_mode": {
    "name": "ipython",
    "version": 3
   },
   "file_extension": ".py",
   "mimetype": "text/x-python",
   "name": "python",
   "nbconvert_exporter": "python",
   "pygments_lexer": "ipython3",
   "version": "3.11.5"
  }
 },
 "nbformat": 4,
 "nbformat_minor": 5
}
